{
 "cells": [
  {
   "cell_type": "markdown",
   "metadata": {
    "collapsed": true
   },
   "source": [
    "# Language Translation\n",
    "In this project, you’re going to take a peek into the realm of neural network machine translation.  You’ll be training a sequence to sequence model on a dataset of English and French sentences that can translate new sentences from English to French.\n",
    "## Get the Data\n",
    "Since translating the whole language of English to French will take lots of time to train, we have provided you with a small portion of the English corpus."
   ]
  },
  {
   "cell_type": "code",
   "execution_count": 1,
   "metadata": {
    "collapsed": true
   },
   "outputs": [],
   "source": [
    "\"\"\"\n",
    "DON'T MODIFY ANYTHING IN THIS CELL\n",
    "\"\"\"\n",
    "import helper\n",
    "import problem_unittests as tests\n",
    "\n",
    "source_path = 'data/small_vocab_en'\n",
    "target_path = 'data/small_vocab_fr'\n",
    "source_text = helper.load_data(source_path)\n",
    "target_text = helper.load_data(target_path)"
   ]
  },
  {
   "cell_type": "markdown",
   "metadata": {},
   "source": [
    "## Explore the Data\n",
    "Play around with view_sentence_range to view different parts of the data."
   ]
  },
  {
   "cell_type": "code",
   "execution_count": 2,
   "metadata": {},
   "outputs": [
    {
     "name": "stdout",
     "output_type": "stream",
     "text": [
      "Dataset Stats\n",
      "Roughly the number of unique words: 227\n",
      "Number of sentences: 137861\n",
      "Average number of words in a sentence: 13.225277634719028\n",
      "\n",
      "English sentences 0 to 10:\n",
      "new jersey is sometimes quiet during autumn , and it is snowy in april .\n",
      "the united states is usually chilly during july , and it is usually freezing in november .\n",
      "california is usually quiet during march , and it is usually hot in june .\n",
      "the united states is sometimes mild during june , and it is cold in september .\n",
      "your least liked fruit is the grape , but my least liked is the apple .\n",
      "his favorite fruit is the orange , but my favorite is the grape .\n",
      "paris is relaxing during december , but it is usually chilly in july .\n",
      "new jersey is busy during spring , and it is never hot in march .\n",
      "our least liked fruit is the lemon , but my least liked is the grape .\n",
      "the united states is sometimes busy during january , and it is sometimes warm in november .\n",
      "\n",
      "French sentences 0 to 10:\n",
      "new jersey est parfois calme pendant l' automne , et il est neigeux en avril .\n",
      "les états-unis est généralement froid en juillet , et il gèle habituellement en novembre .\n",
      "california est généralement calme en mars , et il est généralement chaud en juin .\n",
      "les états-unis est parfois légère en juin , et il fait froid en septembre .\n",
      "votre moins aimé fruit est le raisin , mais mon moins aimé est la pomme .\n",
      "son fruit préféré est l'orange , mais mon préféré est le raisin .\n",
      "paris est relaxant en décembre , mais il est généralement froid en juillet .\n",
      "new jersey est occupé au printemps , et il est jamais chaude en mars .\n",
      "notre fruit est moins aimé le citron , mais mon moins aimé est le raisin .\n",
      "les états-unis est parfois occupé en janvier , et il est parfois chaud en novembre .\n"
     ]
    }
   ],
   "source": [
    "view_sentence_range = (0, 10)\n",
    "\n",
    "\"\"\"\n",
    "DON'T MODIFY ANYTHING IN THIS CELL\n",
    "\"\"\"\n",
    "import numpy as np\n",
    "\n",
    "print('Dataset Stats')\n",
    "print('Roughly the number of unique words: {}'.format(len({word: None for word in source_text.split()})))\n",
    "\n",
    "sentences = source_text.split('\\n')\n",
    "word_counts = [len(sentence.split()) for sentence in sentences]\n",
    "print('Number of sentences: {}'.format(len(sentences)))\n",
    "print('Average number of words in a sentence: {}'.format(np.average(word_counts)))\n",
    "\n",
    "print()\n",
    "print('English sentences {} to {}:'.format(*view_sentence_range))\n",
    "print('\\n'.join(source_text.split('\\n')[view_sentence_range[0]:view_sentence_range[1]]))\n",
    "print()\n",
    "print('French sentences {} to {}:'.format(*view_sentence_range))\n",
    "print('\\n'.join(target_text.split('\\n')[view_sentence_range[0]:view_sentence_range[1]]))"
   ]
  },
  {
   "cell_type": "markdown",
   "metadata": {},
   "source": [
    "## Implement Preprocessing Function\n",
    "### Text to Word Ids\n",
    "As you did with other RNNs, you must turn the text into a number so the computer can understand it. In the function `text_to_ids()`, you'll turn `source_text` and `target_text` from words to ids.  However, you need to add the `<EOS>` word id at the end of `target_text`.  This will help the neural network predict when the sentence should end.\n",
    "\n",
    "You can get the `<EOS>` word id by doing:\n",
    "```python\n",
    "target_vocab_to_int['<EOS>']\n",
    "```\n",
    "You can get other word ids using `source_vocab_to_int` and `target_vocab_to_int`."
   ]
  },
  {
   "cell_type": "code",
   "execution_count": 4,
   "metadata": {},
   "outputs": [
    {
     "name": "stdout",
     "output_type": "stream",
     "text": [
      "Tests Passed\n"
     ]
    }
   ],
   "source": [
    "def text_to_ids(source_text, target_text, source_vocab_to_int, target_vocab_to_int):\n",
    "    \"\"\"\n",
    "    Convert source and target text to proper word ids\n",
    "    :param source_text: String that contains all the source text.\n",
    "    :param target_text: String that contains all the target text.\n",
    "    :param source_vocab_to_int: Dictionary to go from the source words to an id\n",
    "    :param target_vocab_to_int: Dictionary to go from the target words to an id\n",
    "    :return: A tuple of lists (source_id_text, target_id_text)\n",
    "    \"\"\"\n",
    "    \"\"\"\n",
    "    # Empty lists\n",
    "    source_id_text = []\n",
    "    target_id_text = []\n",
    "    \n",
    "    # splitting source text \n",
    "    for sentence in source_text.split('\\n'):\n",
    "        # assigning source vocab to int ids\n",
    "        source_ids = [source_vocab_to_int[word] for word in sentence.split()]\n",
    "        # appending source_ids to predefined source dict\n",
    "        source_id_text.append(source_ids)\n",
    "    \n",
    "    #splitting target text\n",
    "    for sentence in target_text.split('\\n'):\n",
    "        # assigned target vocob to int ids\n",
    "        target_ids = [target_vocab_to_int[word] for word in sentence.split()]\n",
    "        #  add the <EOS> word id at the end of target_text\n",
    "        target_ids.append(target_vocab_to_int['<EOS>'])\n",
    "        target_id_text.append(target_ids)\n",
    "    \n",
    "    \"\"\"\n",
    "    EOS = []\n",
    "    EOS.append(target_vocab_to_int['<EOS>'])\n",
    "    source_id_text = [[source_vocab_to_int[word] for word in sentence.split()] for sentence in source_text.split('\\n')]\n",
    "    target_id_text = [[target_vocab_to_int[word] for word in sentence.split()]+EOS for sentence in target_text.split('\\n')]\n",
    "   \n",
    "    return source_id_text, target_id_text\n",
    "        \n",
    "    return source_id_text, target_id_text\n",
    "\n",
    "\"\"\"\n",
    "DON'T MODIFY ANYTHING IN THIS CELL THAT IS BELOW THIS LINE\n",
    "\"\"\"\n",
    "tests.test_text_to_ids(text_to_ids)"
   ]
  },
  {
   "cell_type": "markdown",
   "metadata": {},
   "source": [
    "### Preprocess all the data and save it\n",
    "Running the code cell below will preprocess all the data and save it to file."
   ]
  },
  {
   "cell_type": "code",
   "execution_count": 5,
   "metadata": {
    "collapsed": true
   },
   "outputs": [],
   "source": [
    "\"\"\"\n",
    "DON'T MODIFY ANYTHING IN THIS CELL\n",
    "\"\"\"\n",
    "helper.preprocess_and_save_data(source_path, target_path, text_to_ids)"
   ]
  },
  {
   "cell_type": "markdown",
   "metadata": {},
   "source": [
    "# Check Point\n",
    "This is your first checkpoint. If you ever decide to come back to this notebook or have to restart the notebook, you can start from here. The preprocessed data has been saved to disk."
   ]
  },
  {
   "cell_type": "code",
   "execution_count": 6,
   "metadata": {
    "collapsed": true
   },
   "outputs": [],
   "source": [
    "\"\"\"\n",
    "DON'T MODIFY ANYTHING IN THIS CELL\n",
    "\"\"\"\n",
    "import numpy as np\n",
    "import helper\n",
    "\n",
    "(source_int_text, target_int_text), (source_vocab_to_int, target_vocab_to_int), _ = helper.load_preprocess()"
   ]
  },
  {
   "cell_type": "markdown",
   "metadata": {},
   "source": [
    "### Check the Version of TensorFlow and Access to GPU\n",
    "This will check to make sure you have the correct version of TensorFlow and access to a GPU"
   ]
  },
  {
   "cell_type": "code",
   "execution_count": 7,
   "metadata": {},
   "outputs": [
    {
     "name": "stdout",
     "output_type": "stream",
     "text": [
      "TensorFlow Version: 1.1.0\n",
      "Default GPU Device: /gpu:0\n"
     ]
    }
   ],
   "source": [
    "\"\"\"\n",
    "DON'T MODIFY ANYTHING IN THIS CELL\n",
    "\"\"\"\n",
    "from distutils.version import LooseVersion\n",
    "import warnings\n",
    "import tensorflow as tf\n",
    "from tensorflow.python.layers.core import Dense\n",
    "\n",
    "# Check TensorFlow Version\n",
    "assert LooseVersion(tf.__version__) >= LooseVersion('1.1'), 'Please use TensorFlow version 1.1 or newer'\n",
    "print('TensorFlow Version: {}'.format(tf.__version__))\n",
    "\n",
    "# Check for a GPU\n",
    "if not tf.test.gpu_device_name():\n",
    "    warnings.warn('No GPU found. Please use a GPU to train your neural network.')\n",
    "else:\n",
    "    print('Default GPU Device: {}'.format(tf.test.gpu_device_name()))"
   ]
  },
  {
   "cell_type": "markdown",
   "metadata": {},
   "source": [
    "## Build the Neural Network\n",
    "You'll build the components necessary to build a Sequence-to-Sequence model by implementing the following functions below:\n",
    "- `model_inputs`\n",
    "- `process_decoder_input`\n",
    "- `encoding_layer`\n",
    "- `decoding_layer_train`\n",
    "- `decoding_layer_infer`\n",
    "- `decoding_layer`\n",
    "- `seq2seq_model`\n",
    "\n",
    "### Input\n",
    "Implement the `model_inputs()` function to create TF Placeholders for the Neural Network. It should create the following placeholders:\n",
    "\n",
    "- Input text placeholder named \"input\" using the TF Placeholder name parameter with rank 2.\n",
    "- Targets placeholder with rank 2.\n",
    "- Learning rate placeholder with rank 0.\n",
    "- Keep probability placeholder named \"keep_prob\" using the TF Placeholder name parameter with rank 0.\n",
    "- Target sequence length placeholder named \"target_sequence_length\" with rank 1\n",
    "- Max target sequence length tensor named \"max_target_len\" getting its value from applying tf.reduce_max on the target_sequence_length placeholder. Rank 0.\n",
    "- Source sequence length placeholder named \"source_sequence_length\" with rank 1\n",
    "\n",
    "Return the placeholders in the following the tuple (input, targets, learning rate, keep probability, target sequence length, max target sequence length, source sequence length)"
   ]
  },
  {
   "cell_type": "code",
   "execution_count": 9,
   "metadata": {},
   "outputs": [
    {
     "name": "stdout",
     "output_type": "stream",
     "text": [
      "Tests Passed\n"
     ]
    }
   ],
   "source": [
    "def model_inputs():\n",
    "    \"\"\"\n",
    "    Create TF Placeholders for input, targets, learning rate, and lengths of source and target sequences.\n",
    "    :return: Tuple (input, targets, learning rate, keep probability, target sequence length,\n",
    "    max target sequence length, source sequence length)\n",
    "    \"\"\"\n",
    "    \n",
    "    inputs =  tf.placeholder(tf.int32, shape=[None,None], name=\"input\")\n",
    "    targets = tf.placeholder(tf.int32, shape=[None,None], name= \"targets\")\n",
    "    learning_rate = tf.placeholder(tf.float32,name =\"learning_rate\")\n",
    "    keep_prob = tf.placeholder(tf.float32, name= \"keep_prob\")\n",
    "    target_sequence_length = tf.placeholder(tf.int32, shape=[None], name=\"target_sequence_length\")\n",
    "    max_target_len = tf.reduce_max(target_sequence_length)\n",
    "    source_sequence_length = tf.placeholder(tf.int32,[None], name=\"source_sequence_length\") \n",
    "    \n",
    "    return (inputs, targets, learning_rate, keep_prob, target_sequence_length, max_target_len, source_sequence_length)\n",
    "\n",
    "\"\"\"\n",
    "DON'T MODIFY ANYTHING IN THIS CELL THAT IS BELOW THIS LINE\n",
    "\"\"\"\n",
    "tests.test_model_inputs(model_inputs)"
   ]
  },
  {
   "cell_type": "markdown",
   "metadata": {},
   "source": [
    "### Process Decoder Input\n",
    "Implement `process_decoder_input` by removing the last word id from each batch in `target_data` and concat the GO ID to the begining of each batch."
   ]
  },
  {
   "cell_type": "code",
   "execution_count": 10,
   "metadata": {},
   "outputs": [
    {
     "name": "stdout",
     "output_type": "stream",
     "text": [
      "Tests Passed\n"
     ]
    }
   ],
   "source": [
    "def process_decoder_input(target_data, target_vocab_to_int, batch_size):\n",
    "    \"\"\"\n",
    "    Preprocess target data for encoding\n",
    "    :param target_data: Target Placehoder\n",
    "    :param target_vocab_to_int: Dictionary to go from the target words to an id\n",
    "    :param batch_size: Batch Size\n",
    "    :return: Preprocessed target data\n",
    "    \"\"\"\n",
    "    \n",
    "    Go_id = target_vocab_to_int['<GO>']\n",
    "    ending = tf.strided_slice(target_data,begin=[0,0],end=[batch_size,-1],strides=[1,1])\n",
    "    update_wordId = tf.concat([tf.fill([batch_size,1],Go_id),ending],1)\n",
    "    \n",
    "    return update_wordId\n",
    "\n",
    "\"\"\"\n",
    "DON'T MODIFY ANYTHING IN THIS CELL THAT IS BELOW THIS LINE\n",
    "\"\"\"\n",
    "tests.test_process_encoding_input(process_decoder_input)"
   ]
  },
  {
   "cell_type": "markdown",
   "metadata": {},
   "source": [
    "### Encoding\n",
    "Implement `encoding_layer()` to create a Encoder RNN layer:\n",
    " * Embed the encoder input using [`tf.contrib.layers.embed_sequence`](https://www.tensorflow.org/api_docs/python/tf/contrib/layers/embed_sequence)\n",
    " * Construct a [stacked](https://github.com/tensorflow/tensorflow/blob/6947f65a374ebf29e74bb71e36fd82760056d82c/tensorflow/docs_src/tutorials/recurrent.md#stacking-multiple-lstms) [`tf.contrib.rnn.LSTMCell`](https://www.tensorflow.org/api_docs/python/tf/contrib/rnn/LSTMCell) wrapped in a [`tf.contrib.rnn.DropoutWrapper`](https://www.tensorflow.org/api_docs/python/tf/contrib/rnn/DropoutWrapper)\n",
    " * Pass cell and embedded input to [`tf.nn.dynamic_rnn()`](https://www.tensorflow.org/api_docs/python/tf/nn/dynamic_rnn)"
   ]
  },
  {
   "cell_type": "code",
   "execution_count": 11,
   "metadata": {
    "scrolled": false
   },
   "outputs": [
    {
     "name": "stdout",
     "output_type": "stream",
     "text": [
      "Tests Passed\n"
     ]
    }
   ],
   "source": [
    "from imp import reload\n",
    "reload(tests)\n",
    "\n",
    "def encoding_layer(rnn_inputs, rnn_size, num_layers, keep_prob, \n",
    "                   source_sequence_length, source_vocab_size, \n",
    "                   encoding_embedding_size):\n",
    "    \"\"\"\n",
    "    Create encoding layer\n",
    "    :param rnn_inputs: Inputs for the RNN\n",
    "    :param rnn_size: RNN Size\n",
    "    :param num_layers: Number of layers\n",
    "    :param keep_prob: Dropout keep probability\n",
    "    :param source_sequence_length: a list of the lengths of each sequence in the batch\n",
    "    :param source_vocab_size: vocabulary size of source data\n",
    "    :param encoding_embedding_size: embedding size of source data\n",
    "    :return: tuple (RNN output, RNN state)\n",
    "    \"\"\"\n",
    "    # Encoder embedding\n",
    "\n",
    "    enc_embed_in = tf.contrib.layers.embed_sequence(rnn_inputs,source_vocab_size,encoding_embedding_size)\n",
    "    \n",
    "    def init_cell(rnn_size):\n",
    "        encoder_lstm = tf.contrib.rnn.LSTMCell(rnn_size,initializer=tf.random_uniform_initializer(minval=-0.1,maxval=0.1,seed=2))\n",
    "        encoder_cell = tf.contrib.rnn.DropoutWrapper(encoder_lstm,keep_prob)\n",
    "        return encoder_cell\n",
    "    \n",
    "    encoder_layer = tf.contrib.rnn.MultiRNNCell([init_cell(rnn_size) for _ in range(num_layers)])\n",
    "    \n",
    "    RNN_output,RNN_state = tf.nn.dynamic_rnn(encoder_layer, enc_embed_in,source_sequence_length,dtype=tf.float32)\n",
    "    \n",
    "    return (RNN_output, RNN_state)\n",
    "\n",
    "\"\"\"\n",
    "DON'T MODIFY ANYTHING IN THIS CELL THAT IS BELOW THIS LINE\n",
    "\"\"\"\n",
    "tests.test_encoding_layer(encoding_layer)"
   ]
  },
  {
   "cell_type": "markdown",
   "metadata": {},
   "source": [
    "### Decoding - Training\n",
    "Create a training decoding layer:\n",
    "* Create a [`tf.contrib.seq2seq.TrainingHelper`](https://www.tensorflow.org/api_docs/python/tf/contrib/seq2seq/TrainingHelper) \n",
    "* Create a [`tf.contrib.seq2seq.BasicDecoder`](https://www.tensorflow.org/api_docs/python/tf/contrib/seq2seq/BasicDecoder)\n",
    "* Obtain the decoder outputs from [`tf.contrib.seq2seq.dynamic_decode`](https://www.tensorflow.org/api_docs/python/tf/contrib/seq2seq/dynamic_decode)"
   ]
  },
  {
   "cell_type": "code",
   "execution_count": 12,
   "metadata": {},
   "outputs": [
    {
     "name": "stdout",
     "output_type": "stream",
     "text": [
      "Tests Passed\n"
     ]
    }
   ],
   "source": [
    "\n",
    "def decoding_layer_train(encoder_state, dec_cell, dec_embed_input, \n",
    "                         target_sequence_length, max_summary_length, \n",
    "                         output_layer, keep_prob):\n",
    "    \"\"\"\n",
    "    Create a decoding layer for training\n",
    "    :param encoder_state: Encoder State\n",
    "    :param dec_cell: Decoder RNN Cell\n",
    "    :param dec_embed_input: Decoder embedded input\n",
    "    :param target_sequence_length: The lengths of each sequence in the target batch\n",
    "    :param max_summary_length: The length of the longest sequence in the batch\n",
    "    :param output_layer: Function to apply the output layer\n",
    "    :param keep_prob: Dropout keep probability\n",
    "    :return: BasicDecoderOutput containing training logits and sample_id\n",
    "    \"\"\"\n",
    "\n",
    "    decode_helper = tf.contrib.seq2seq.TrainingHelper(dec_embed_input,target_sequence_length,time_major=False)\n",
    "    decode_train = tf.contrib.seq2seq.BasicDecoder(dec_cell,decode_helper,encoder_state,output_layer)\n",
    "    decoder_output, _= tf.contrib.seq2seq.dynamic_decode(decode_train,impute_finished=True,\n",
    "                                                         maximum_iterations=max_summary_length) \n",
    "    \n",
    "    #decoder_dropout = tf.nn.dropout(decoder_output,keep_prob=keep_prob)\n",
    "    #return decoder_dropout\n",
    "    \n",
    "    return decoder_output\n",
    "\n",
    "\"\"\"\n",
    "DON'T MODIFY ANYTHING IN THIS CELL THAT IS BELOW THIS LINE\n",
    "\"\"\"\n",
    "tests.test_decoding_layer_train(decoding_layer_train)"
   ]
  },
  {
   "cell_type": "markdown",
   "metadata": {},
   "source": [
    "### Decoding - Inference\n",
    "Create inference decoder:\n",
    "* Create a [`tf.contrib.seq2seq.GreedyEmbeddingHelper`](https://www.tensorflow.org/api_docs/python/tf/contrib/seq2seq/GreedyEmbeddingHelper)\n",
    "* Create a [`tf.contrib.seq2seq.BasicDecoder`](https://www.tensorflow.org/api_docs/python/tf/contrib/seq2seq/BasicDecoder)\n",
    "* Obtain the decoder outputs from [`tf.contrib.seq2seq.dynamic_decode`](https://www.tensorflow.org/api_docs/python/tf/contrib/seq2seq/dynamic_decode)"
   ]
  },
  {
   "cell_type": "code",
   "execution_count": 13,
   "metadata": {
    "scrolled": true
   },
   "outputs": [
    {
     "name": "stdout",
     "output_type": "stream",
     "text": [
      "Tests Passed\n"
     ]
    }
   ],
   "source": [
    "def decoding_layer_infer(encoder_state, dec_cell, dec_embeddings, start_of_sequence_id,\n",
    "                         end_of_sequence_id, max_target_sequence_length,\n",
    "                         vocab_size, output_layer, batch_size, keep_prob):\n",
    "    \"\"\"\n",
    "    Create a decoding layer for inference\n",
    "    :param encoder_state: Encoder state\n",
    "    :param dec_cell: Decoder RNN Cell\n",
    "    :param dec_embeddings: Decoder embeddings\n",
    "    :param start_of_sequence_id: GO ID\n",
    "    :param end_of_sequence_id: EOS Id\n",
    "    :param max_target_sequence_length: Maximum length of target sequences\n",
    "    :param vocab_size: Size of decoder/target vocabulary\n",
    "    :param decoding_scope: TenorFlow Variable Scope for decoding\n",
    "    :param output_layer: Function to apply the output layer\n",
    "    :param batch_size: Batch size\n",
    "    :param keep_prob: Dropout keep probability\n",
    "    :return: BasicDecoderOutput containing inference logits and sample_id\n",
    "    \"\"\"\n",
    "\n",
    "    start_tokens = tf.tile(tf.constant([start_of_sequence_id],dtype= tf.int32), [batch_size],name ='start_tokens')\n",
    "    \n",
    "    decoder_helper = tf.contrib.seq2seq.GreedyEmbeddingHelper(embedding=dec_embeddings,start_tokens = start_tokens,\n",
    "                                                              end_token = end_of_sequence_id) \n",
    "    \n",
    "    decoder_inference = tf.contrib.seq2seq.BasicDecoder(dec_cell,decoder_helper,encoder_state,output_layer)\n",
    "    \n",
    "    BasicDecoderOutput,_ = tf.contrib.seq2seq.dynamic_decode(decoder_inference,impute_finished=True,\n",
    "                                                             maximum_iterations=max_target_sequence_length) \n",
    "    \n",
    "    return BasicDecoderOutput\n",
    "\n",
    "\"\"\"\n",
    "DON'T MODIFY ANYTHING IN THIS CELL THAT IS BELOW THIS LINE\n",
    "\"\"\"\n",
    "tests.test_decoding_layer_infer(decoding_layer_infer)"
   ]
  },
  {
   "cell_type": "markdown",
   "metadata": {},
   "source": [
    "### Build the Decoding Layer\n",
    "Implement `decoding_layer()` to create a Decoder RNN layer.\n",
    "\n",
    "* Embed the target sequences\n",
    "* Construct the decoder LSTM cell (just like you constructed the encoder cell above)\n",
    "* Create an output layer to map the outputs of the decoder to the elements of our vocabulary\n",
    "* Use the your `decoding_layer_train(encoder_state, dec_cell, dec_embed_input, target_sequence_length, max_target_sequence_length, output_layer, keep_prob)` function to get the training logits.\n",
    "* Use your `decoding_layer_infer(encoder_state, dec_cell, dec_embeddings, start_of_sequence_id, end_of_sequence_id, max_target_sequence_length, vocab_size, output_layer, batch_size, keep_prob)` function to get the inference logits.\n",
    "\n",
    "Note: You'll need to use [tf.variable_scope](https://www.tensorflow.org/api_docs/python/tf/variable_scope) to share variables between training and inference."
   ]
  },
  {
   "cell_type": "code",
   "execution_count": 14,
   "metadata": {},
   "outputs": [
    {
     "name": "stdout",
     "output_type": "stream",
     "text": [
      "Tests Passed\n"
     ]
    }
   ],
   "source": [
    "def decoding_layer(dec_input, encoder_state,\n",
    "                   target_sequence_length, max_target_sequence_length,\n",
    "                   rnn_size,\n",
    "                   num_layers, target_vocab_to_int, target_vocab_size,\n",
    "                   batch_size, keep_prob, decoding_embedding_size):\n",
    "    \"\"\"\n",
    "    Create decoding layer\n",
    "    :param dec_input: Decoder input\n",
    "    :param encoder_state: Encoder state\n",
    "    :param target_sequence_length: The lengths of each sequence in the target batch\n",
    "    :param max_target_sequence_length: Maximum length of target sequences\n",
    "    :param rnn_size: RNN Size\n",
    "    :param num_layers: Number of layers\n",
    "    :param target_vocab_to_int: Dictionary to go from the target words to an id\n",
    "    :param target_vocab_size: Size of target vocabulary\n",
    "    :param batch_size: The size of the batch\n",
    "    :param keep_prob: Dropout keep probability\n",
    "    :return: Tuple of (Training BasicDecoderOutput, Inference BasicDecoderOutput)\n",
    "    \"\"\"\n",
    "    decoder_embeds = tf.Variable(tf.random_uniform([target_vocab_size,decoding_embedding_size]))\n",
    "    decoder_embd_input = tf.nn.embedding_lookup(decoder_embeds,dec_input)\n",
    "    \n",
    "    def init_cell(rnn_size):\n",
    "        decoder_lstm = tf.contrib.rnn.LSTMCell(rnn_size,initializer=tf.random_uniform_initializer(minval=-0.3,\n",
    "                                                                                                  maxval=0.3,seed=7))\n",
    "        decoder_cell = tf.contrib.rnn.DropoutWrapper(decoder_lstm,keep_prob)\n",
    "        return decoder_cell\n",
    "    \n",
    "    decoder_layer = tf.contrib.rnn.MultiRNNCell([init_cell(rnn_size) for _ in range(num_layers)])\n",
    "    \n",
    "    output_layer = Dense(target_vocab_size,kernel_initializer=tf.truncated_normal_initializer(mean=0.0,stddev=0.1))\n",
    "    \n",
    "    with tf.variable_scope(\"decode\"):\n",
    "        training_BasicDecoderOutput = decoding_layer_train(encoder_state,decoder_layer,decoder_embd_input,\n",
    "                                                           target_sequence_length,max_target_sequence_length, \n",
    "                                                           output_layer, keep_prob)\n",
    "        \n",
    "    \n",
    "    with tf.variable_scope(\"decode\", reuse=True):\n",
    "        inference_BasicDecoderOutput = decoding_layer_infer(encoder_state, decoder_layer, decoder_embeds, \n",
    "                                                target_vocab_to_int['<GO>'],target_vocab_to_int['<EOS>'],\n",
    "                                                            max_target_sequence_length,target_vocab_size,\n",
    "                                                            output_layer, batch_size, keep_prob)\n",
    "        \n",
    "        \n",
    "    return (training_BasicDecoderOutput, inference_BasicDecoderOutput)\n",
    "\n",
    "\n",
    "\n",
    "\"\"\"\n",
    "DON'T MODIFY ANYTHING IN THIS CELL THAT IS BELOW THIS LINE\n",
    "\"\"\"\n",
    "tests.test_decoding_layer(decoding_layer)"
   ]
  },
  {
   "cell_type": "markdown",
   "metadata": {},
   "source": [
    "### Build the Neural Network\n",
    "Apply the functions you implemented above to:\n",
    "\n",
    "- Encode the input using your `encoding_layer(rnn_inputs, rnn_size, num_layers, keep_prob,  source_sequence_length, source_vocab_size, encoding_embedding_size)`.\n",
    "- Process target data using your `process_decoder_input(target_data, target_vocab_to_int, batch_size)` function.\n",
    "- Decode the encoded input using your `decoding_layer(dec_input, enc_state, target_sequence_length, max_target_sentence_length, rnn_size, num_layers, target_vocab_to_int, target_vocab_size, batch_size, keep_prob, dec_embedding_size)` function."
   ]
  },
  {
   "cell_type": "code",
   "execution_count": 15,
   "metadata": {},
   "outputs": [
    {
     "name": "stdout",
     "output_type": "stream",
     "text": [
      "Tests Passed\n"
     ]
    }
   ],
   "source": [
    "def seq2seq_model(input_data, target_data, keep_prob, batch_size,\n",
    "                  source_sequence_length, target_sequence_length,\n",
    "                  max_target_sentence_length,\n",
    "                  source_vocab_size, target_vocab_size,\n",
    "                  enc_embedding_size, dec_embedding_size,\n",
    "                  rnn_size, num_layers, target_vocab_to_int):\n",
    "    \"\"\"\n",
    "    Build the Sequence-to-Sequence part of the neural network\n",
    "    :param input_data: Input placeholder\n",
    "    :param target_data: Target placeholder\n",
    "    :param keep_prob: Dropout keep probability placeholder\n",
    "    :param batch_size: Batch Size\n",
    "    :param source_sequence_length: Sequence Lengths of source sequences in the batch\n",
    "    :param target_sequence_length: Sequence Lengths of target sequences in the batch\n",
    "    :param source_vocab_size: Source vocabulary size\n",
    "    :param target_vocab_size: Target vocabulary size\n",
    "    :param enc_embedding_size: Decoder embedding size\n",
    "    :param dec_embedding_size: Encoder embedding size\n",
    "    :param rnn_size: RNN Size\n",
    "    :param num_layers: Number of layers\n",
    "    :param target_vocab_to_int: Dictionary to go from the target words to an id\n",
    "    :return: Tuple of (Training BasicDecoderOutput, Inference BasicDecoderOutput)\n",
    "    \"\"\"\n",
    "    \n",
    "    encoder_output, encoder_state = encoding_layer(input_data,rnn_size,num_layers,keep_prob,source_sequence_length,\n",
    "                                                   source_vocab_size,enc_embedding_size)\n",
    "\n",
    "\n",
    "    decoder_input = process_decoder_input(target_data, target_vocab_to_int, batch_size)\n",
    "    \n",
    "    training_BasicDecoderOutput, inference_BasicDecoderOutput = decoding_layer(decoder_input,encoder_state,\n",
    "                                                                               target_sequence_length,\n",
    "                                                                               max_target_sentence_length,\n",
    "                                                                               rnn_size, num_layers,\n",
    "                                                                               target_vocab_to_int, \n",
    "                                                                               target_vocab_size,\n",
    "                                                                               batch_size,keep_prob,\n",
    "                                                                               dec_embedding_size)\n",
    "\n",
    "    return (training_BasicDecoderOutput, inference_BasicDecoderOutput)\n",
    "\n",
    "\n",
    "\"\"\"\n",
    "DON'T MODIFY ANYTHING IN THIS CELL THAT IS BELOW THIS LINE\n",
    "\"\"\"\n",
    "tests.test_seq2seq_model(seq2seq_model)"
   ]
  },
  {
   "cell_type": "markdown",
   "metadata": {},
   "source": [
    "## Neural Network Training\n",
    "### Hyperparameters\n",
    "Tune the following parameters:\n",
    "\n",
    "- Set `epochs` to the number of epochs.\n",
    "- Set `batch_size` to the batch size.\n",
    "- Set `rnn_size` to the size of the RNNs.\n",
    "- Set `num_layers` to the number of layers.\n",
    "- Set `encoding_embedding_size` to the size of the embedding for the encoder.\n",
    "- Set `decoding_embedding_size` to the size of the embedding for the decoder.\n",
    "- Set `learning_rate` to the learning rate.\n",
    "- Set `keep_probability` to the Dropout keep probability\n",
    "- Set `display_step` to state how many steps between each debug output statement"
   ]
  },
  {
   "cell_type": "code",
   "execution_count": 16,
   "metadata": {
    "collapsed": true
   },
   "outputs": [],
   "source": [
    "# Number of Epochs\n",
    "epochs = 15\n",
    "# Batch Size\n",
    "batch_size = 256\n",
    "# RNN Size\n",
    "rnn_size = 128\n",
    "# Number of Layers\n",
    "num_layers = 3\n",
    "# Embedding Size\n",
    "encoding_embedding_size = 512\n",
    "decoding_embedding_size = 512\n",
    "# Learning Rate\n",
    "learning_rate = 0.01\n",
    "# Dropout Keep Probability\n",
    "keep_probability = 0.5\n",
    "display_step = 50"
   ]
  },
  {
   "cell_type": "markdown",
   "metadata": {},
   "source": [
    "### Build the Graph\n",
    "Build the graph using the neural network you implemented."
   ]
  },
  {
   "cell_type": "code",
   "execution_count": 19,
   "metadata": {
    "collapsed": true
   },
   "outputs": [],
   "source": [
    "\"\"\"\n",
    "DON'T MODIFY ANYTHING IN THIS CELL\n",
    "\"\"\"\n",
    "save_path = 'checkpoints/dev'\n",
    "(source_int_text, target_int_text), (source_vocab_to_int, target_vocab_to_int), _ = helper.load_preprocess()\n",
    "max_target_sentence_length = max([len(sentence) for sentence in source_int_text])\n",
    "\n",
    "train_graph = tf.Graph()\n",
    "with train_graph.as_default():\n",
    "    input_data, targets, lr, keep_prob, target_sequence_length, max_target_sequence_length, source_sequence_length = model_inputs()\n",
    "\n",
    "    #sequence_length = tf.placeholder_with_default(max_target_sentence_length, None, name='sequence_length')\n",
    "    input_shape = tf.shape(input_data)\n",
    "\n",
    "    train_logits, inference_logits = seq2seq_model(tf.reverse(input_data, [-1]),\n",
    "                                                   targets,\n",
    "                                                   keep_prob,\n",
    "                                                   batch_size,\n",
    "                                                   source_sequence_length,\n",
    "                                                   target_sequence_length,\n",
    "                                                   max_target_sequence_length,\n",
    "                                                   len(source_vocab_to_int),\n",
    "                                                   len(target_vocab_to_int),\n",
    "                                                   encoding_embedding_size,\n",
    "                                                   decoding_embedding_size,\n",
    "                                                   rnn_size,\n",
    "                                                   num_layers,\n",
    "                                                   target_vocab_to_int)\n",
    "\n",
    "\n",
    "    training_logits = tf.identity(train_logits.rnn_output, name='logits')\n",
    "    inference_logits = tf.identity(inference_logits.sample_id, name='predictions')\n",
    "\n",
    "    masks = tf.sequence_mask(target_sequence_length, max_target_sequence_length, dtype=tf.float32, name='masks')\n",
    "\n",
    "    with tf.name_scope(\"optimization\"):\n",
    "        # Loss function\n",
    "        cost = tf.contrib.seq2seq.sequence_loss(\n",
    "            training_logits,\n",
    "            targets,\n",
    "            masks)\n",
    "\n",
    "        # Optimizer\n",
    "        optimizer = tf.train.AdamOptimizer(lr)\n",
    "\n",
    "        # Gradient Clipping\n",
    "        gradients = optimizer.compute_gradients(cost)\n",
    "        capped_gradients = [(tf.clip_by_value(grad, -1., 1.), var) for grad, var in gradients if grad is not None]\n",
    "        train_op = optimizer.apply_gradients(capped_gradients)\n"
   ]
  },
  {
   "cell_type": "markdown",
   "metadata": {},
   "source": [
    "Batch and pad the source and target sequences"
   ]
  },
  {
   "cell_type": "code",
   "execution_count": 20,
   "metadata": {
    "collapsed": true
   },
   "outputs": [],
   "source": [
    "\"\"\"\n",
    "DON'T MODIFY ANYTHING IN THIS CELL\n",
    "\"\"\"\n",
    "def pad_sentence_batch(sentence_batch, pad_int):\n",
    "    \"\"\"Pad sentences with <PAD> so that each sentence of a batch has the same length\"\"\"\n",
    "    max_sentence = max([len(sentence) for sentence in sentence_batch])\n",
    "    return [sentence + [pad_int] * (max_sentence - len(sentence)) for sentence in sentence_batch]\n",
    "\n",
    "\n",
    "def get_batches(sources, targets, batch_size, source_pad_int, target_pad_int):\n",
    "    \"\"\"Batch targets, sources, and the lengths of their sentences together\"\"\"\n",
    "    for batch_i in range(0, len(sources)//batch_size):\n",
    "        start_i = batch_i * batch_size\n",
    "\n",
    "        # Slice the right amount for the batch\n",
    "        sources_batch = sources[start_i:start_i + batch_size]\n",
    "        targets_batch = targets[start_i:start_i + batch_size]\n",
    "\n",
    "        # Pad\n",
    "        pad_sources_batch = np.array(pad_sentence_batch(sources_batch, source_pad_int))\n",
    "        pad_targets_batch = np.array(pad_sentence_batch(targets_batch, target_pad_int))\n",
    "\n",
    "        # Need the lengths for the _lengths parameters\n",
    "        pad_targets_lengths = []\n",
    "        for target in pad_targets_batch:\n",
    "            pad_targets_lengths.append(len(target))\n",
    "\n",
    "        pad_source_lengths = []\n",
    "        for source in pad_sources_batch:\n",
    "            pad_source_lengths.append(len(source))\n",
    "\n",
    "        yield pad_sources_batch, pad_targets_batch, pad_source_lengths, pad_targets_lengths\n"
   ]
  },
  {
   "cell_type": "markdown",
   "metadata": {},
   "source": [
    "### Train\n",
    "Train the neural network on the preprocessed data. If you have a hard time getting a good loss, check the forms to see if anyone is having the same problem."
   ]
  },
  {
   "cell_type": "code",
   "execution_count": 22,
   "metadata": {
    "scrolled": true
   },
   "outputs": [
    {
     "name": "stdout",
     "output_type": "stream",
     "text": [
      "Epoch   0 Batch   50/538 - Train Accuracy: 0.4734, Validation Accuracy: 0.5036, Loss: 2.0205\n",
      "Epoch   0 Batch  100/538 - Train Accuracy: 0.5166, Validation Accuracy: 0.5368, Loss: 1.2793\n",
      "Epoch   0 Batch  150/538 - Train Accuracy: 0.5824, Validation Accuracy: 0.5978, Loss: 0.9332\n",
      "Epoch   0 Batch  200/538 - Train Accuracy: 0.6172, Validation Accuracy: 0.6262, Loss: 0.7516\n",
      "Epoch   0 Batch  250/538 - Train Accuracy: 0.6111, Validation Accuracy: 0.6364, Loss: 0.6829\n",
      "Epoch   0 Batch  300/538 - Train Accuracy: 0.6438, Validation Accuracy: 0.6412, Loss: 0.5996\n",
      "Epoch   0 Batch  350/538 - Train Accuracy: 0.6631, Validation Accuracy: 0.6468, Loss: 0.5469\n",
      "Epoch   0 Batch  400/538 - Train Accuracy: 0.6602, Validation Accuracy: 0.6461, Loss: 0.5023\n",
      "Epoch   0 Batch  450/538 - Train Accuracy: 0.6672, Validation Accuracy: 0.6841, Loss: 0.4883\n",
      "Epoch   0 Batch  500/538 - Train Accuracy: 0.7102, Validation Accuracy: 0.6774, Loss: 0.4135\n",
      "Epoch   1 Batch   50/538 - Train Accuracy: 0.7281, Validation Accuracy: 0.7223, Loss: 0.3903\n",
      "Epoch   1 Batch  100/538 - Train Accuracy: 0.7057, Validation Accuracy: 0.7216, Loss: 0.3538\n",
      "Epoch   1 Batch  150/538 - Train Accuracy: 0.7332, Validation Accuracy: 0.7219, Loss: 0.3343\n",
      "Epoch   1 Batch  200/538 - Train Accuracy: 0.7207, Validation Accuracy: 0.7211, Loss: 0.3166\n",
      "Epoch   1 Batch  250/538 - Train Accuracy: 0.7525, Validation Accuracy: 0.7525, Loss: 0.3141\n",
      "Epoch   1 Batch  300/538 - Train Accuracy: 0.7595, Validation Accuracy: 0.7750, Loss: 0.2910\n",
      "Epoch   1 Batch  350/538 - Train Accuracy: 0.7640, Validation Accuracy: 0.7539, Loss: 0.2804\n",
      "Epoch   1 Batch  400/538 - Train Accuracy: 0.7840, Validation Accuracy: 0.7773, Loss: 0.2548\n",
      "Epoch   1 Batch  450/538 - Train Accuracy: 0.7820, Validation Accuracy: 0.7958, Loss: 0.2590\n",
      "Epoch   1 Batch  500/538 - Train Accuracy: 0.8299, Validation Accuracy: 0.7965, Loss: 0.2037\n",
      "Epoch   2 Batch   50/538 - Train Accuracy: 0.8322, Validation Accuracy: 0.8002, Loss: 0.2127\n",
      "Epoch   2 Batch  100/538 - Train Accuracy: 0.8330, Validation Accuracy: 0.8310, Loss: 0.1873\n",
      "Epoch   2 Batch  150/538 - Train Accuracy: 0.8467, Validation Accuracy: 0.8335, Loss: 0.1824\n",
      "Epoch   2 Batch  200/538 - Train Accuracy: 0.8434, Validation Accuracy: 0.8445, Loss: 0.1752\n",
      "Epoch   2 Batch  250/538 - Train Accuracy: 0.8664, Validation Accuracy: 0.8255, Loss: 0.1677\n",
      "Epoch   2 Batch  300/538 - Train Accuracy: 0.8449, Validation Accuracy: 0.8484, Loss: 0.1775\n",
      "Epoch   2 Batch  350/538 - Train Accuracy: 0.8677, Validation Accuracy: 0.8191, Loss: 0.1730\n",
      "Epoch   2 Batch  400/538 - Train Accuracy: 0.8564, Validation Accuracy: 0.8461, Loss: 0.1479\n",
      "Epoch   2 Batch  450/538 - Train Accuracy: 0.8475, Validation Accuracy: 0.8452, Loss: 0.1748\n",
      "Epoch   2 Batch  500/538 - Train Accuracy: 0.8880, Validation Accuracy: 0.8514, Loss: 0.1307\n",
      "Epoch   3 Batch   50/538 - Train Accuracy: 0.8787, Validation Accuracy: 0.8656, Loss: 0.1339\n",
      "Epoch   3 Batch  100/538 - Train Accuracy: 0.9047, Validation Accuracy: 0.8702, Loss: 0.1338\n",
      "Epoch   3 Batch  150/538 - Train Accuracy: 0.8980, Validation Accuracy: 0.8599, Loss: 0.1199\n",
      "Epoch   3 Batch  200/538 - Train Accuracy: 0.9045, Validation Accuracy: 0.8722, Loss: 0.1222\n",
      "Epoch   3 Batch  250/538 - Train Accuracy: 0.8957, Validation Accuracy: 0.8642, Loss: 0.1195\n",
      "Epoch   3 Batch  300/538 - Train Accuracy: 0.8850, Validation Accuracy: 0.8690, Loss: 0.1282\n",
      "Epoch   3 Batch  350/538 - Train Accuracy: 0.8984, Validation Accuracy: 0.8782, Loss: 0.1183\n",
      "Epoch   3 Batch  400/538 - Train Accuracy: 0.8893, Validation Accuracy: 0.8787, Loss: 0.1103\n",
      "Epoch   3 Batch  450/538 - Train Accuracy: 0.8884, Validation Accuracy: 0.8798, Loss: 0.1321\n",
      "Epoch   3 Batch  500/538 - Train Accuracy: 0.9249, Validation Accuracy: 0.8912, Loss: 0.0956\n",
      "Epoch   4 Batch   50/538 - Train Accuracy: 0.8973, Validation Accuracy: 0.8938, Loss: 0.1115\n",
      "Epoch   4 Batch  100/538 - Train Accuracy: 0.9180, Validation Accuracy: 0.8951, Loss: 0.0973\n",
      "Epoch   4 Batch  150/538 - Train Accuracy: 0.9100, Validation Accuracy: 0.8862, Loss: 0.1090\n",
      "Epoch   4 Batch  200/538 - Train Accuracy: 0.9133, Validation Accuracy: 0.8913, Loss: 0.1040\n",
      "Epoch   4 Batch  250/538 - Train Accuracy: 0.9187, Validation Accuracy: 0.8910, Loss: 0.1048\n",
      "Epoch   4 Batch  300/538 - Train Accuracy: 0.9061, Validation Accuracy: 0.9018, Loss: 0.1030\n",
      "Epoch   4 Batch  350/538 - Train Accuracy: 0.9042, Validation Accuracy: 0.8880, Loss: 0.1022\n",
      "Epoch   4 Batch  400/538 - Train Accuracy: 0.8994, Validation Accuracy: 0.8935, Loss: 0.1028\n",
      "Epoch   4 Batch  450/538 - Train Accuracy: 0.8940, Validation Accuracy: 0.9077, Loss: 0.1292\n",
      "Epoch   4 Batch  500/538 - Train Accuracy: 0.9313, Validation Accuracy: 0.9119, Loss: 0.0812\n",
      "Epoch   5 Batch   50/538 - Train Accuracy: 0.9105, Validation Accuracy: 0.9062, Loss: 0.0893\n",
      "Epoch   5 Batch  100/538 - Train Accuracy: 0.9141, Validation Accuracy: 0.9047, Loss: 0.0915\n",
      "Epoch   5 Batch  150/538 - Train Accuracy: 0.9187, Validation Accuracy: 0.9075, Loss: 0.0863\n",
      "Epoch   5 Batch  200/538 - Train Accuracy: 0.9170, Validation Accuracy: 0.9047, Loss: 0.0773\n",
      "Epoch   5 Batch  250/538 - Train Accuracy: 0.9250, Validation Accuracy: 0.8954, Loss: 0.0856\n",
      "Epoch   5 Batch  300/538 - Train Accuracy: 0.9079, Validation Accuracy: 0.9070, Loss: 0.0830\n",
      "Epoch   5 Batch  350/538 - Train Accuracy: 0.9150, Validation Accuracy: 0.9015, Loss: 0.0931\n",
      "Epoch   5 Batch  400/538 - Train Accuracy: 0.9087, Validation Accuracy: 0.9100, Loss: 0.0924\n",
      "Epoch   5 Batch  450/538 - Train Accuracy: 0.9035, Validation Accuracy: 0.9167, Loss: 0.1058\n",
      "Epoch   5 Batch  500/538 - Train Accuracy: 0.9389, Validation Accuracy: 0.9057, Loss: 0.0637\n",
      "Epoch   6 Batch   50/538 - Train Accuracy: 0.9230, Validation Accuracy: 0.9142, Loss: 0.0946\n",
      "Epoch   6 Batch  100/538 - Train Accuracy: 0.9168, Validation Accuracy: 0.9078, Loss: 0.0801\n",
      "Epoch   6 Batch  150/538 - Train Accuracy: 0.9215, Validation Accuracy: 0.9210, Loss: 0.0814\n",
      "Epoch   6 Batch  200/538 - Train Accuracy: 0.9246, Validation Accuracy: 0.9114, Loss: 0.0813\n",
      "Epoch   6 Batch  250/538 - Train Accuracy: 0.9168, Validation Accuracy: 0.8919, Loss: 0.0922\n",
      "Epoch   6 Batch  300/538 - Train Accuracy: 0.9167, Validation Accuracy: 0.9148, Loss: 0.0887\n",
      "Epoch   6 Batch  350/538 - Train Accuracy: 0.9081, Validation Accuracy: 0.9029, Loss: 0.0902\n",
      "Epoch   6 Batch  400/538 - Train Accuracy: 0.8953, Validation Accuracy: 0.9043, Loss: 0.0765\n",
      "Epoch   6 Batch  450/538 - Train Accuracy: 0.9010, Validation Accuracy: 0.9196, Loss: 0.0997\n",
      "Epoch   6 Batch  500/538 - Train Accuracy: 0.9382, Validation Accuracy: 0.9201, Loss: 0.0749\n",
      "Epoch   7 Batch   50/538 - Train Accuracy: 0.9119, Validation Accuracy: 0.9212, Loss: 0.0795\n",
      "Epoch   7 Batch  100/538 - Train Accuracy: 0.9254, Validation Accuracy: 0.9171, Loss: 0.0709\n",
      "Epoch   7 Batch  150/538 - Train Accuracy: 0.9229, Validation Accuracy: 0.9197, Loss: 0.0694\n",
      "Epoch   7 Batch  200/538 - Train Accuracy: 0.9229, Validation Accuracy: 0.9192, Loss: 0.0780\n",
      "Epoch   7 Batch  250/538 - Train Accuracy: 0.9221, Validation Accuracy: 0.9150, Loss: 0.0804\n",
      "Epoch   7 Batch  300/538 - Train Accuracy: 0.9263, Validation Accuracy: 0.9162, Loss: 0.0774\n",
      "Epoch   7 Batch  350/538 - Train Accuracy: 0.9027, Validation Accuracy: 0.9199, Loss: 0.0892\n",
      "Epoch   7 Batch  400/538 - Train Accuracy: 0.9172, Validation Accuracy: 0.9237, Loss: 0.0794\n",
      "Epoch   7 Batch  450/538 - Train Accuracy: 0.9122, Validation Accuracy: 0.9224, Loss: 0.1042\n",
      "Epoch   7 Batch  500/538 - Train Accuracy: 0.9430, Validation Accuracy: 0.9276, Loss: 0.0668\n",
      "Epoch   8 Batch   50/538 - Train Accuracy: 0.9262, Validation Accuracy: 0.9235, Loss: 0.0768\n",
      "Epoch   8 Batch  100/538 - Train Accuracy: 0.9381, Validation Accuracy: 0.9274, Loss: 0.0691\n",
      "Epoch   8 Batch  150/538 - Train Accuracy: 0.9252, Validation Accuracy: 0.9165, Loss: 0.0625\n",
      "Epoch   8 Batch  200/538 - Train Accuracy: 0.9277, Validation Accuracy: 0.9299, Loss: 0.0710\n",
      "Epoch   8 Batch  250/538 - Train Accuracy: 0.9367, Validation Accuracy: 0.9190, Loss: 0.0763\n",
      "Epoch   8 Batch  300/538 - Train Accuracy: 0.9254, Validation Accuracy: 0.9267, Loss: 0.0751\n",
      "Epoch   8 Batch  350/538 - Train Accuracy: 0.9185, Validation Accuracy: 0.9141, Loss: 0.0734\n",
      "Epoch   8 Batch  400/538 - Train Accuracy: 0.9070, Validation Accuracy: 0.9258, Loss: 0.0701\n",
      "Epoch   8 Batch  450/538 - Train Accuracy: 0.9176, Validation Accuracy: 0.9308, Loss: 0.0925\n"
     ]
    },
    {
     "name": "stdout",
     "output_type": "stream",
     "text": [
      "Epoch   8 Batch  500/538 - Train Accuracy: 0.9464, Validation Accuracy: 0.9224, Loss: 0.0636\n",
      "Epoch   9 Batch   50/538 - Train Accuracy: 0.9266, Validation Accuracy: 0.9229, Loss: 0.0716\n",
      "Epoch   9 Batch  100/538 - Train Accuracy: 0.9451, Validation Accuracy: 0.9165, Loss: 0.0695\n",
      "Epoch   9 Batch  150/538 - Train Accuracy: 0.9273, Validation Accuracy: 0.9290, Loss: 0.0625\n",
      "Epoch   9 Batch  200/538 - Train Accuracy: 0.9277, Validation Accuracy: 0.9130, Loss: 0.0643\n",
      "Epoch   9 Batch  250/538 - Train Accuracy: 0.9262, Validation Accuracy: 0.9066, Loss: 0.0732\n",
      "Epoch   9 Batch  300/538 - Train Accuracy: 0.9245, Validation Accuracy: 0.9373, Loss: 0.0785\n",
      "Epoch   9 Batch  350/538 - Train Accuracy: 0.9113, Validation Accuracy: 0.9155, Loss: 0.0833\n",
      "Epoch   9 Batch  400/538 - Train Accuracy: 0.9196, Validation Accuracy: 0.9206, Loss: 0.0798\n",
      "Epoch   9 Batch  450/538 - Train Accuracy: 0.9142, Validation Accuracy: 0.9283, Loss: 0.0915\n",
      "Epoch   9 Batch  500/538 - Train Accuracy: 0.9402, Validation Accuracy: 0.9299, Loss: 0.0629\n",
      "Epoch  10 Batch   50/538 - Train Accuracy: 0.9148, Validation Accuracy: 0.9350, Loss: 0.0744\n",
      "Epoch  10 Batch  100/538 - Train Accuracy: 0.9361, Validation Accuracy: 0.9286, Loss: 0.0749\n",
      "Epoch  10 Batch  150/538 - Train Accuracy: 0.9277, Validation Accuracy: 0.9189, Loss: 0.0773\n",
      "Epoch  10 Batch  200/538 - Train Accuracy: 0.9225, Validation Accuracy: 0.9281, Loss: 0.0705\n",
      "Epoch  10 Batch  250/538 - Train Accuracy: 0.9377, Validation Accuracy: 0.9194, Loss: 0.0696\n",
      "Epoch  10 Batch  300/538 - Train Accuracy: 0.9254, Validation Accuracy: 0.9213, Loss: 0.0813\n",
      "Epoch  10 Batch  350/538 - Train Accuracy: 0.9234, Validation Accuracy: 0.9277, Loss: 0.0898\n",
      "Epoch  10 Batch  400/538 - Train Accuracy: 0.9235, Validation Accuracy: 0.9315, Loss: 0.0798\n",
      "Epoch  10 Batch  450/538 - Train Accuracy: 0.9087, Validation Accuracy: 0.9272, Loss: 0.0939\n",
      "Epoch  10 Batch  500/538 - Train Accuracy: 0.9561, Validation Accuracy: 0.9279, Loss: 0.0595\n",
      "Epoch  11 Batch   50/538 - Train Accuracy: 0.9293, Validation Accuracy: 0.9315, Loss: 0.0819\n",
      "Epoch  11 Batch  100/538 - Train Accuracy: 0.9406, Validation Accuracy: 0.9178, Loss: 0.0869\n",
      "Epoch  11 Batch  150/538 - Train Accuracy: 0.9262, Validation Accuracy: 0.9123, Loss: 0.0598\n",
      "Epoch  11 Batch  200/538 - Train Accuracy: 0.9293, Validation Accuracy: 0.9201, Loss: 0.0686\n",
      "Epoch  11 Batch  250/538 - Train Accuracy: 0.9338, Validation Accuracy: 0.9355, Loss: 0.0767\n",
      "Epoch  11 Batch  300/538 - Train Accuracy: 0.9208, Validation Accuracy: 0.9354, Loss: 0.0708\n",
      "Epoch  11 Batch  350/538 - Train Accuracy: 0.9347, Validation Accuracy: 0.9165, Loss: 0.0775\n",
      "Epoch  11 Batch  400/538 - Train Accuracy: 0.9258, Validation Accuracy: 0.9251, Loss: 0.0782\n",
      "Epoch  11 Batch  450/538 - Train Accuracy: 0.9107, Validation Accuracy: 0.9354, Loss: 0.0896\n",
      "Epoch  11 Batch  500/538 - Train Accuracy: 0.9469, Validation Accuracy: 0.9229, Loss: 0.0657\n",
      "Epoch  12 Batch   50/538 - Train Accuracy: 0.9268, Validation Accuracy: 0.9297, Loss: 0.0757\n",
      "Epoch  12 Batch  100/538 - Train Accuracy: 0.9480, Validation Accuracy: 0.9403, Loss: 0.0679\n",
      "Epoch  12 Batch  150/538 - Train Accuracy: 0.9244, Validation Accuracy: 0.9178, Loss: 0.0729\n",
      "Epoch  12 Batch  200/538 - Train Accuracy: 0.9260, Validation Accuracy: 0.9181, Loss: 0.0677\n",
      "Epoch  12 Batch  250/538 - Train Accuracy: 0.9352, Validation Accuracy: 0.9284, Loss: 0.0750\n",
      "Epoch  12 Batch  300/538 - Train Accuracy: 0.9360, Validation Accuracy: 0.9276, Loss: 0.0717\n",
      "Epoch  12 Batch  350/538 - Train Accuracy: 0.9167, Validation Accuracy: 0.9146, Loss: 0.0807\n",
      "Epoch  12 Batch  400/538 - Train Accuracy: 0.9157, Validation Accuracy: 0.9240, Loss: 0.0887\n",
      "Epoch  12 Batch  450/538 - Train Accuracy: 0.9154, Validation Accuracy: 0.9357, Loss: 0.0934\n",
      "Epoch  12 Batch  500/538 - Train Accuracy: 0.9540, Validation Accuracy: 0.9252, Loss: 0.0596\n",
      "Epoch  13 Batch   50/538 - Train Accuracy: 0.9285, Validation Accuracy: 0.9221, Loss: 0.0650\n",
      "Epoch  13 Batch  100/538 - Train Accuracy: 0.9357, Validation Accuracy: 0.9313, Loss: 0.0620\n",
      "Epoch  13 Batch  150/538 - Train Accuracy: 0.9334, Validation Accuracy: 0.9240, Loss: 0.0701\n",
      "Epoch  13 Batch  200/538 - Train Accuracy: 0.9240, Validation Accuracy: 0.9251, Loss: 0.0740\n",
      "Epoch  13 Batch  250/538 - Train Accuracy: 0.9176, Validation Accuracy: 0.9254, Loss: 0.0756\n",
      "Epoch  13 Batch  300/538 - Train Accuracy: 0.9247, Validation Accuracy: 0.9217, Loss: 0.0721\n",
      "Epoch  13 Batch  350/538 - Train Accuracy: 0.9204, Validation Accuracy: 0.9094, Loss: 0.0853\n",
      "Epoch  13 Batch  400/538 - Train Accuracy: 0.9288, Validation Accuracy: 0.9274, Loss: 0.0729\n",
      "Epoch  13 Batch  450/538 - Train Accuracy: 0.9213, Validation Accuracy: 0.9329, Loss: 0.0910\n",
      "Epoch  13 Batch  500/538 - Train Accuracy: 0.9487, Validation Accuracy: 0.9240, Loss: 0.0671\n",
      "Epoch  14 Batch   50/538 - Train Accuracy: 0.9176, Validation Accuracy: 0.9320, Loss: 0.0931\n",
      "Epoch  14 Batch  100/538 - Train Accuracy: 0.9373, Validation Accuracy: 0.9160, Loss: 0.0684\n",
      "Epoch  14 Batch  150/538 - Train Accuracy: 0.9187, Validation Accuracy: 0.9217, Loss: 0.0736\n",
      "Epoch  14 Batch  200/538 - Train Accuracy: 0.9271, Validation Accuracy: 0.9212, Loss: 0.0718\n",
      "Epoch  14 Batch  250/538 - Train Accuracy: 0.9348, Validation Accuracy: 0.9199, Loss: 0.0797\n",
      "Epoch  14 Batch  300/538 - Train Accuracy: 0.9397, Validation Accuracy: 0.9329, Loss: 0.1008\n",
      "Epoch  14 Batch  350/538 - Train Accuracy: 0.9209, Validation Accuracy: 0.9237, Loss: 0.0977\n",
      "Epoch  14 Batch  400/538 - Train Accuracy: 0.9152, Validation Accuracy: 0.9276, Loss: 0.0819\n",
      "Epoch  14 Batch  450/538 - Train Accuracy: 0.9120, Validation Accuracy: 0.9320, Loss: 0.0936\n",
      "Epoch  14 Batch  500/538 - Train Accuracy: 0.9426, Validation Accuracy: 0.9215, Loss: 0.0736\n",
      "Model Trained and Saved\n"
     ]
    }
   ],
   "source": [
    "\"\"\"\n",
    "DON'T MODIFY ANYTHING IN THIS CELL\n",
    "\"\"\"\n",
    "def get_accuracy(target, logits):\n",
    "    \"\"\"\n",
    "    Calculate accuracy\n",
    "    \"\"\"\n",
    "    max_seq = max(target.shape[1], logits.shape[1])\n",
    "    if max_seq - target.shape[1]:\n",
    "        target = np.pad(\n",
    "            target,\n",
    "            [(0,0),(0,max_seq - target.shape[1])],\n",
    "            'constant')\n",
    "    if max_seq - logits.shape[1]:\n",
    "        logits = np.pad(\n",
    "            logits,\n",
    "            [(0,0),(0,max_seq - logits.shape[1])],\n",
    "            'constant')\n",
    "\n",
    "    return np.mean(np.equal(target, logits))\n",
    "\n",
    "# Split data to training and validation sets\n",
    "train_source = source_int_text[batch_size:]\n",
    "train_target = target_int_text[batch_size:]\n",
    "valid_source = source_int_text[:batch_size]\n",
    "valid_target = target_int_text[:batch_size]\n",
    "(valid_sources_batch, valid_targets_batch, valid_sources_lengths, valid_targets_lengths ) = next(get_batches(valid_source,\n",
    "                                                                                                             valid_target,\n",
    "                                                                                                             batch_size,\n",
    "                                                                                                             source_vocab_to_int['<PAD>'],\n",
    "                                                                                                             target_vocab_to_int['<PAD>']))                                                                                                  \n",
    "with tf.Session(graph=train_graph) as sess:\n",
    "    sess.run(tf.global_variables_initializer())\n",
    "\n",
    "    for epoch_i in range(epochs):\n",
    "        for batch_i, (source_batch, target_batch, sources_lengths, targets_lengths) in enumerate(\n",
    "                get_batches(train_source, train_target, batch_size,\n",
    "                            source_vocab_to_int['<PAD>'],\n",
    "                            target_vocab_to_int['<PAD>'])):\n",
    "\n",
    "            _, loss = sess.run(\n",
    "                [train_op, cost],\n",
    "                {input_data: source_batch,\n",
    "                 targets: target_batch,\n",
    "                 lr: learning_rate,\n",
    "                 target_sequence_length: targets_lengths,\n",
    "                 source_sequence_length: sources_lengths,\n",
    "                 keep_prob: keep_probability})\n",
    "\n",
    "\n",
    "            if batch_i % display_step == 0 and batch_i > 0:\n",
    "\n",
    "\n",
    "                batch_train_logits = sess.run(\n",
    "                    inference_logits,\n",
    "                    {input_data: source_batch,\n",
    "                     source_sequence_length: sources_lengths,\n",
    "                     target_sequence_length: targets_lengths,\n",
    "                     keep_prob: 1.0})\n",
    "\n",
    "\n",
    "                batch_valid_logits = sess.run(\n",
    "                    inference_logits,\n",
    "                    {input_data: valid_sources_batch,\n",
    "                     source_sequence_length: valid_sources_lengths,\n",
    "                     target_sequence_length: valid_targets_lengths,\n",
    "                     keep_prob: 1.0})\n",
    "\n",
    "                train_acc = get_accuracy(target_batch, batch_train_logits)\n",
    "\n",
    "                valid_acc = get_accuracy(valid_targets_batch, batch_valid_logits)\n",
    "\n",
    "                print('Epoch {:>3} Batch {:>4}/{} - Train Accuracy: {:>6.4f}, Validation Accuracy: {:>6.4f}, Loss: {:>6.4f}'\n",
    "                      .format(epoch_i, batch_i, len(source_int_text) // batch_size, train_acc, valid_acc, loss))\n",
    "\n",
    "    # Save Model\n",
    "    saver = tf.train.Saver()\n",
    "    saver.save(sess, save_path)\n",
    "    print('Model Trained and Saved')"
   ]
  },
  {
   "cell_type": "markdown",
   "metadata": {},
   "source": [
    "### Save Parameters\n",
    "Save the `batch_size` and `save_path` parameters for inference."
   ]
  },
  {
   "cell_type": "code",
   "execution_count": 27,
   "metadata": {
    "collapsed": true
   },
   "outputs": [],
   "source": [
    "\"\"\"\n",
    "DON'T MODIFY ANYTHING IN THIS CELL\n",
    "\"\"\"\n",
    "# Save parameters for checkpoint\n",
    "helper.save_params(save_path)"
   ]
  },
  {
   "cell_type": "markdown",
   "metadata": {},
   "source": [
    "# Checkpoint"
   ]
  },
  {
   "cell_type": "code",
   "execution_count": 28,
   "metadata": {
    "collapsed": true
   },
   "outputs": [],
   "source": [
    "\"\"\"\n",
    "DON'T MODIFY ANYTHING IN THIS CELL\n",
    "\"\"\"\n",
    "import tensorflow as tf\n",
    "import numpy as np\n",
    "import helper\n",
    "import problem_unittests as tests\n",
    "\n",
    "_, (source_vocab_to_int, target_vocab_to_int), (source_int_to_vocab, target_int_to_vocab) = helper.load_preprocess()\n",
    "load_path = helper.load_params()"
   ]
  },
  {
   "cell_type": "markdown",
   "metadata": {},
   "source": [
    "## Sentence to Sequence\n",
    "To feed a sentence into the model for translation, you first need to preprocess it.  Implement the function `sentence_to_seq()` to preprocess new sentences.\n",
    "\n",
    "- Convert the sentence to lowercase\n",
    "- Convert words into ids using `vocab_to_int`\n",
    " - Convert words not in the vocabulary, to the `<UNK>` word id."
   ]
  },
  {
   "cell_type": "code",
   "execution_count": 29,
   "metadata": {},
   "outputs": [
    {
     "name": "stdout",
     "output_type": "stream",
     "text": [
      "Tests Passed\n"
     ]
    }
   ],
   "source": [
    "def sentence_to_seq(sentence, vocab_to_int):\n",
    "    \"\"\"\n",
    "    Convert a sentence to a sequence of ids\n",
    "    :param sentence: String\n",
    "    :param vocab_to_int: Dictionary to go from the words to an id\n",
    "    :return: List of word ids\n",
    "    \"\"\"\n",
    "    string = sentence.lower()\n",
    "    \"\"\"\n",
    "    words = string.split(' ')\n",
    "    ids = []\n",
    "    for w in words:\n",
    "        if( w in vocab_to_int):\n",
    "            ids.append(vocab_to_int[w])\n",
    "        else:\n",
    "            ids.append(UNK)\n",
    "    \"\"\"\n",
    "    UNK = vocab_to_int['<UNK>']\n",
    "    ids = [vocab_to_int.get(words,UNK) for words in string.split(' ')]\n",
    "    return ids\n",
    "\n",
    "\n",
    "\"\"\"\n",
    "DON'T MODIFY ANYTHING IN THIS CELL THAT IS BELOW THIS LINE\n",
    "\"\"\"\n",
    "tests.test_sentence_to_seq(sentence_to_seq)"
   ]
  },
  {
   "cell_type": "markdown",
   "metadata": {},
   "source": [
    "## Translate\n",
    "This will translate `translate_sentence` from English to French."
   ]
  },
  {
   "cell_type": "code",
   "execution_count": 30,
   "metadata": {},
   "outputs": [
    {
     "name": "stdout",
     "output_type": "stream",
     "text": [
      "INFO:tensorflow:Restoring parameters from checkpoints/dev\n",
      "Input\n",
      "  Word Ids:      [111, 222, 139, 87, 85, 20, 105]\n",
      "  English Words: ['he', 'saw', 'a', 'old', 'yellow', 'truck', '.']\n",
      "\n",
      "Prediction\n",
      "  Word Ids:      [249, 233, 296, 347, 43, 339, 112, 46, 1]\n",
      "  French Words: il a vu une voiture jaune rouillée . <EOS>\n"
     ]
    }
   ],
   "source": [
    "translate_sentence = 'he saw a old yellow truck .'\n",
    "\n",
    "\n",
    "\"\"\"\n",
    "DON'T MODIFY ANYTHING IN THIS CELL\n",
    "\"\"\"\n",
    "translate_sentence = sentence_to_seq(translate_sentence, source_vocab_to_int)\n",
    "\n",
    "loaded_graph = tf.Graph()\n",
    "with tf.Session(graph=loaded_graph) as sess:\n",
    "    # Load saved model\n",
    "    loader = tf.train.import_meta_graph(load_path + '.meta')\n",
    "    loader.restore(sess, load_path)\n",
    "\n",
    "    input_data = loaded_graph.get_tensor_by_name('input:0')\n",
    "    logits = loaded_graph.get_tensor_by_name('predictions:0')\n",
    "    target_sequence_length = loaded_graph.get_tensor_by_name('target_sequence_length:0')\n",
    "    source_sequence_length = loaded_graph.get_tensor_by_name('source_sequence_length:0')\n",
    "    keep_prob = loaded_graph.get_tensor_by_name('keep_prob:0')\n",
    "\n",
    "    translate_logits = sess.run(logits, {input_data: [translate_sentence]*batch_size,\n",
    "                                         target_sequence_length: [len(translate_sentence)*2]*batch_size,\n",
    "                                         source_sequence_length: [len(translate_sentence)]*batch_size,\n",
    "                                         keep_prob: 1.0})[0]\n",
    "\n",
    "print('Input')\n",
    "print('  Word Ids:      {}'.format([i for i in translate_sentence]))\n",
    "print('  English Words: {}'.format([source_int_to_vocab[i] for i in translate_sentence]))\n",
    "\n",
    "print('\\nPrediction')\n",
    "print('  Word Ids:      {}'.format([i for i in translate_logits]))\n",
    "print('  French Words: {}'.format(\" \".join([target_int_to_vocab[i] for i in translate_logits])))\n"
   ]
  },
  {
   "cell_type": "markdown",
   "metadata": {},
   "source": [
    "## Imperfect Translation\n",
    "You might notice that some sentences translate better than others.  Since the dataset you're using only has a vocabulary of 227 English words of the thousands that you use, you're only going to see good results using these words.  For this project, you don't need a perfect translation. However, if you want to create a better translation model, you'll need better data.\n",
    "\n",
    "You can train on the [WMT10 French-English corpus](http://www.statmt.org/wmt10/training-giga-fren.tar).  This dataset has more vocabulary and richer in topics discussed.  However, this will take you days to train, so make sure you've a GPU and the neural network is performing well on dataset we provided.  Just make sure you play with the WMT10 corpus after you've submitted this project.\n",
    "## Submitting This Project\n",
    "When submitting this project, make sure to run all the cells before saving the notebook. Save the notebook file as \"dlnd_language_translation.ipynb\" and save it as a HTML file under \"File\" -> \"Download as\". Include the \"helper.py\" and \"problem_unittests.py\" files in your submission."
   ]
  }
 ],
 "metadata": {
  "anaconda-cloud": {},
  "kernelspec": {
   "display_name": "Python 3",
   "language": "python",
   "name": "python3"
  },
  "language_info": {
   "codemirror_mode": {
    "name": "ipython",
    "version": 3
   },
   "file_extension": ".py",
   "mimetype": "text/x-python",
   "name": "python",
   "nbconvert_exporter": "python",
   "pygments_lexer": "ipython3",
   "version": "3.5.3"
  }
 },
 "nbformat": 4,
 "nbformat_minor": 1
}
